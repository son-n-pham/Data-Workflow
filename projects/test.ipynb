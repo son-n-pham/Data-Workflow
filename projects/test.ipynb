{
 "cells": [
  {
   "cell_type": "code",
   "execution_count": 1,
   "metadata": {},
   "outputs": [],
   "source": [
    "import pickle"
   ]
  },
  {
   "cell_type": "code",
   "execution_count": 3,
   "metadata": {},
   "outputs": [
    {
     "name": "stderr",
     "output_type": "stream",
     "text": [
      "'ls' is not recognized as an internal or external command,\n",
      "operable program or batch file.\n"
     ]
    }
   ],
   "source": [
    "!ls"
   ]
  },
  {
   "cell_type": "code",
   "execution_count": 24,
   "metadata": {},
   "outputs": [],
   "source": [
    "folder = 'SonPhammmmmm'"
   ]
  },
  {
   "cell_type": "code",
   "execution_count": 25,
   "metadata": {},
   "outputs": [
    {
     "name": "stdout",
     "output_type": "stream",
     "text": [
      "In project folder\n",
      "{}\n",
      "------\n",
      "In temp folder\n",
      "{}\n"
     ]
    }
   ],
   "source": [
    "print(\"In project folder\")\n",
    "loaded_state = pickle.load(open(f'{folder}/state_folder/state.pkl', 'rb'))\n",
    "print(loaded_state)\n",
    "\n",
    "print(\"------\")\n",
    "print(\"In temp folder\")\n",
    "loaded_state = pickle.load(open(f'../temp_folder/state_folder/state.pkl', 'rb'))\n",
    "print(loaded_state)"
   ]
  },
  {
   "cell_type": "code",
   "execution_count": 27,
   "metadata": {},
   "outputs": [
    {
     "name": "stdout",
     "output_type": "stream",
     "text": [
      "{}\n"
     ]
    }
   ],
   "source": [
    "import pickle\n",
    "\n",
    "temp_state = pickle.load(open('./state_temp.pkl', 'rb'))\n",
    "print(temp_state)"
   ]
  },
  {
   "cell_type": "code",
   "execution_count": 31,
   "metadata": {},
   "outputs": [
    {
     "data": {
      "text/plain": [
       "{'add_graph_button_0_1': False,\n",
       " 'cleaned_columns': ['Drilling_hour (h)',\n",
       "  'Drilling_time (min)',\n",
       "  'ROP (m/h)',\n",
       "  'WOB (KN)'],\n",
       " 'color_0_2': 'Drilling_hour (h)',\n",
       " 'plot_graph_0_0': False,\n",
       " 'load_project': None,\n",
       " 'graphs': [{'id': 0,\n",
       "   'type': '2D Scatter Plot',\n",
       "   'columns': {'x': 'Drilling_hour (h)',\n",
       "    'y': 'Drilling_hour (h)',\n",
       "    'color': 'Drilling_hour (h)',\n",
       "    'size': 'Drilling_hour (h)'},\n",
       "   'plot_clicked': True}],\n",
       " 'loaded_file': 'C:\\\\development\\\\MSE_analysis\\\\temp_folder\\\\cleaned_data_folder\\\\wanjing.csv',\n",
       " 'size_0_3': 'Drilling_hour (h)',\n",
       " 'removed_outlier_columns': [],\n",
       " 'is_df_cleaned': True,\n",
       " 'loaded_count': 0,\n",
       " 'graph_type_0': '2D Scatter Plot',\n",
       " 'x_0_0': 'Drilling_hour (h)',\n",
       " 'clusters': [],\n",
       " 'delete_project': None,\n",
       " 'y_0_1': 'Drilling_hour (h)'}"
      ]
     },
     "execution_count": 31,
     "metadata": {},
     "output_type": "execute_result"
    }
   ],
   "source": [
    "import json\n",
    "# Function to load session_state from a file\n",
    "def load_state_from_file(file_path):\n",
    "    with open(file_path, 'r') as f:\n",
    "        state_data = json.load(f)\n",
    "        return state_data\n",
    "\n",
    "# file_path = './state_temp.json'\n",
    "# load_state_from_file(file_path)\n",
    "\n",
    "file_path = './SonPham/state_folder/state.json'\n",
    "load_state_from_file(file_path)"
   ]
  },
  {
   "cell_type": "code",
   "execution_count": null,
   "metadata": {},
   "outputs": [],
   "source": []
  }
 ],
 "metadata": {
  "kernelspec": {
   "display_name": "funix_DL",
   "language": "python",
   "name": "python3"
  },
  "language_info": {
   "codemirror_mode": {
    "name": "ipython",
    "version": 3
   },
   "file_extension": ".py",
   "mimetype": "text/x-python",
   "name": "python",
   "nbconvert_exporter": "python",
   "pygments_lexer": "ipython3",
   "version": "3.10.13"
  }
 },
 "nbformat": 4,
 "nbformat_minor": 2
}
